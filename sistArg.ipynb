{
 "cells": [
  {
   "cell_type": "markdown",
   "id": "1f054d05",
   "metadata": {},
   "source": [
    "# Trabajo opcional de subida de nota en Sistemas Inteligentes"
   ]
  },
  {
   "cell_type": "markdown",
   "id": "b0f35d16",
   "metadata": {},
   "source": [
    "## Implementación de algoritmo de cálculo de extensiones preferidas"
   ]
  },
  {
   "cell_type": "markdown",
   "id": "da0cb899",
   "metadata": {},
   "source": [
    "### Autor: Arnau Neches Vilà"
   ]
  },
  {
   "cell_type": "markdown",
   "id": "b3c5bec2",
   "metadata": {},
   "source": [
    "**Nota previa**: He decido tipar todo el proyecto a pesar de usar python para que fuese más entendible."
   ]
  },
  {
   "cell_type": "code",
   "execution_count": 2,
   "id": "8cb0e563",
   "metadata": {},
   "outputs": [],
   "source": [
    "from typing import List, Set, Optional, Dict\n",
    "import networkx as nx\n",
    "import matplotlib.pyplot as plt"
   ]
  },
  {
   "cell_type": "markdown",
   "id": "a5c3ab13",
   "metadata": {},
   "source": [
    "En primer lugar he programado la clase NodoArgumento que nos sirve para almacenar el nombre de un nodo (argumento), los argumentos a los que ataca y por los que es atacado. Además incluye un método para que se pueda crear un nuevo ataque (Nueva arista dirigida). Explicación breve:\n",
    "\n",
    "- **nodo.atacados**: Set de nodos a los que nuestro nodo ataca (Lo que en clase vimos como a+).\n",
    "- **nodo.atacantes**: Set de nodos que atacan a nuestro nodo (Lo que en clase vimos como a-).\n",
    "- **ataca(NodoArgumento)**: Crea la relación de ataque (Tanto refutación como debilitación) añadiendo el nodo pasado por parámetro a su set de atacados y añadiendo nuestro nodo al set de atancantes del parámetro nodo."
   ]
  },
  {
   "cell_type": "code",
   "execution_count": 3,
   "id": "cb90be7d",
   "metadata": {},
   "outputs": [],
   "source": [
    "class NodoArgumento:\n",
    "    def __init__(self, nombre: str):\n",
    "        self.nombre = nombre\n",
    "        self.atacados = set()\n",
    "        self.atacantes = set()\n",
    "    \n",
    "    def __str__(self) -> str:\n",
    "        atacados_nombres = {n.nombre for n in self.atacados}\n",
    "        atacantes_nombres = {n.nombre for n in self.atacantes}\n",
    "        return f\"Nodo {self.nombre} ataca a: {atacados_nombres} y es atacado por: {atacantes_nombres}\"\n",
    "    \n",
    "    def __repr__(self) -> str:\n",
    "        return f\"Nodo {self.nombre}\"\n",
    "\n",
    "    def ataca(self, atacado: \"NodoArgumento\"):\n",
    "        self.atacados.add(atacado)\n",
    "        atacado.atacantes.add(self)\n"
   ]
  },
  {
   "cell_type": "markdown",
   "id": "b6f3f423",
   "metadata": {},
   "source": [
    "Tras esto cree la clase GrafoArgumentativo que en esencia es un conjunto de nodos con algunos metodos interesantes. Aquí una explicación de sus métodos.\n",
    "\n",
    "- **añadir_nodo(NodoArgumento)**: Añade un nodo al conjunto de nodos del grafo.\n",
    "- **obtener_nodo(str) -> NodoArgumentativo**: Devuelve el nodo del conjunto que tiene como nombre el parámetro pasado.\n",
    "- **ataque(NodoArgumento, NodoArgumento)**: Crea una relación de ataque entre los nodos.\n",
    "- **mostrar_relaciones()**: Muestra por consola cada nodo y los nodos a los que este ataca.\n",
    "- **es_valido() -> bool**: Devuelve True en caso de que nuestro grafo sea valido, es decir, todos los nodos que aparecen como atancantes o atacados están en el conjunto de nodos. En caso contrario devuelve False.\n",
    "- **dibujar_grafo()**: Utilizando la librería networkx y matplotlib muestra en pantalla el grafo con sus aristas.\n",
    "\n"
   ]
  },
  {
   "cell_type": "code",
   "execution_count": 4,
   "id": "3afc1681",
   "metadata": {},
   "outputs": [],
   "source": [
    "class GrafoArgumentativo:\n",
    "    def __init__(self, nombre: str, nodos: Optional[Set[\"NodoArgumento\"]] = None):\n",
    "        self.nombre = nombre\n",
    "        self.nodos = nodos if nodos is not None else set()\n",
    "    \n",
    "    def __str__(self) -> str:\n",
    "        nombres = {n.nombre for n in self.nodos}\n",
    "        return f\"El grafo argumentativo {self.nombre} contiene los siguientes nodos: {nombres}\"\n",
    "    \n",
    "    def añadir_nodo(self, nodo: \"NodoArgumento\"):\n",
    "        self.nodos.add(nodo)\n",
    "    \n",
    "    def obtener_nodo(self, nombre: str) -> Optional[\"NodoArgumento\"]:\n",
    "        for nodo in self.nodos:\n",
    "            if nodo.nombre == nombre:\n",
    "                return nodo\n",
    "        return None\n",
    "    \n",
    "    def ataque(self, atacante: \"NodoArgumento\", atacado: \"NodoArgumento\"):\n",
    "        atacante.ataca(atacado)\n",
    "    \n",
    "    def mostrar_relaciones(self):\n",
    "        for nodo in self.nodos:\n",
    "            for atacado in nodo.atacados:\n",
    "                print(f\"{nodo.nombre} -> {atacado.nombre}\")\n",
    "        \n",
    "    def es_valido(self) -> bool:\n",
    "        for nodo in self.nodos:\n",
    "            if not nodo.atacados.issubset(self.nodos) or not nodo.atacantes.issubset(self.nodos):\n",
    "                return False\n",
    "        return True\n",
    "    \n",
    "    def dibujar_grafo(self):\n",
    "        G = nx.DiGraph()\n",
    "        for nodo in self.nodos:\n",
    "            G.add_node(nodo.nombre)\n",
    "            for atacado in nodo.atacados:\n",
    "                G.add_edge(nodo.nombre, atacado.nombre)\n",
    "    \n",
    "        nx.draw(G, with_labels=True, arrows=True, node_color=\"lightblue\")\n",
    "        plt.title(self.nombre)\n",
    "        plt.show()\n",
    "    \n",
    "    \n",
    "    "
   ]
  },
  {
   "cell_type": "markdown",
   "id": "0963c2a6",
   "metadata": {},
   "source": [
    "Aquí se muestra la implementación del operador de extensión básica que en clase hemos visto como E(.) Una explicación:\n",
    "\n",
    "- **operador_extension_basica(Set[NodoArgumento], GrafoArgumentativo) -> Set[NodoArgumento]**: Recibe como parámetros un conjunto de argumentos a los que le queremos aplicar el operador y el grafo completo y devuelve el resultado del operador."
   ]
  },
  {
   "cell_type": "code",
   "execution_count": 19,
   "id": "86253fec",
   "metadata": {},
   "outputs": [],
   "source": [
    "def operador_extension_basica(argumentos: Set[\"NodoArgumento\"], grafo: GrafoArgumentativo) -> Set[\"NodoArgumento\"]:\n",
    "    resultado = set()\n",
    "    # 1. Calculo todos los nodos que son atacados por los argumentos del conjunto\n",
    "    atacados = set()\n",
    "    for nodo in argumentos:\n",
    "        atacados.update(nodo.atacados)\n",
    "    # 2. Recorremos todos los nodos del grafo completo\n",
    "    for nodo in grafo.nodos:\n",
    "        # 3. Si es defendido por el conjunto (Sus atacantes son atacados por los atacados de los argumentos iniciales) y no es atacado por el conjunto,\n",
    "        # se añade al resultado\n",
    "        if nodo.atacantes.issubset(atacados) and nodo not in atacados:\n",
    "            resultado.add(nodo)\n",
    "    return resultado    "
   ]
  },
  {
   "cell_type": "markdown",
   "id": "b7b7c0af",
   "metadata": {},
   "source": [
    "Aquí se implementa el algoritmo de cálculo de extensión básica aplicando reiteradamente el operador E(.), explicación:\n",
    "\n",
    "- **calculo_extension_basica(GrafoArgumentativo) -> Set[NodoArgumento]**: Recibe un sistema argumentativo y devuelve la extensión básica."
   ]
  },
  {
   "cell_type": "code",
   "execution_count": 20,
   "id": "6ffb8bd7",
   "metadata": {},
   "outputs": [],
   "source": [
    "def calculo_extension_basica(grafo: GrafoArgumentativo) -> Set[\"NodoArgumento\"]:\n",
    "    # 1. Inicio con el conjunto vacio\n",
    "    actual = set()\n",
    "    while True:\n",
    "        # 2. Le aplico el operador E() al conjunto actual \n",
    "        auxiliar = operador_extension_basica(actual, grafo)\n",
    "        # 3. En caso de encontrar un punto fijo lo devolvemos, hemos acabado el algoritmo\n",
    "        if auxiliar == actual:\n",
    "            return actual\n",
    "        # 4. En caso de no ser punto fijo continuamos\n",
    "        else:\n",
    "            actual = auxiliar"
   ]
  },
  {
   "cell_type": "markdown",
   "id": "80f6e4a9",
   "metadata": {},
   "source": [
    "Tras la creación de las dos clases auxiliares y los métodos de extensiones básicas, programé el algoritmo de clase de cálculo de extensiones preferidas y estables. Este algoritmo podría ser un método de la clase GrafoArgumentativo pero al final me decidí por hacerlo una función separada. En resumen es:\n",
    "\n",
    "- **calcular_extensiones_preferidas(GrafoArgumentativo) -> tuple[List[Set[\"NodoArgumento\"]], List[Set[\"NodoArgumento\"]]]**: Devuelve una tupla con dos listas, la primera las extensiones preferidas y la segunda las estables. "
   ]
  },
  {
   "cell_type": "code",
   "execution_count": null,
   "id": "bea967a8",
   "metadata": {},
   "outputs": [],
   "source": [
    "IN = \"IN\"\n",
    "OUT = \"OUT\"\n",
    "BLANK = \"BLANK\"\n",
    "MUST_OUT = \"MUST-OUT\"\n",
    "UNDEC = \"UNDEC\"\n",
    "\n",
    "def calcular_extensiones_preferidas(grafo: GrafoArgumentativo) -> tuple[List[Set[\"NodoArgumento\"]], List[Set[\"NodoArgumento\"]]]:\n",
    "\n",
    "    # Primero se definen dos funciones auxiliares, una encargada de bifurcar y hacer el backtracking y otra encargada de etiquetar nodos\n",
    "\n",
    "    #Función que se encarga del backtracking, comprueba si un nodo es hoja, en caso de no serlo se bifurca por una etiqueta que esté en BLANK\n",
    "    def backtracking(etiquetas_actuales: Dict[\"NodoArgumento\", str]):\n",
    "\n",
    "        # 1. Si no hay BLANK estamos ante una hoja final por lo que no se hace más backtracking (se hace el return vacio)\n",
    "        # Por lo tanto, revisamos que no haya conflictos (No hay MUST OUT) y añadimos la extensión si no está contenida en ninguna ya existente (Comprobación de maximalidad).\n",
    "        # Cabe recalcar que por como hacemos el algoritmo nunca una nueva candidata a extensión va a contener a una anterior ya calculada (Esto ha sido explicado en clase) \n",
    "        # esto significa que no hay que comprobarlo y eliminar nada de la lista de extensiones. \n",
    "        if BLANK not in etiquetas_actuales.values():\n",
    "            if MUST_OUT not in etiquetas_actuales.values():\n",
    "                extension = {nodo for nodo, etiqueta in etiquetas_actuales.items() if etiqueta == IN}\n",
    "                # Evitar extensiones contenidas en otras ya guardadas (maximalidad)\n",
    "                if not any(extension < ext for ext in extensiones[0]):\n",
    "                    extensiones[0].append(extension)\n",
    "                    # En caso de solo haber IN y OUT será además extensión estable por lo que se añade a la lista de estables\n",
    "                    if set(etiquetas_actuales.values()) == {IN, OUT}:\n",
    "                        extensiones[1].append(extension)\n",
    "            return\n",
    "        \n",
    "        # 2. Comprobamos que no estemos en una rama que se puede cerrar, esto es: que MOUT no esté en BLANK+ (No vamos a conseguir admisibilidad) \n",
    "        # o que IN unión BLANK está contenida en alguna extensión ya calculada (No vamos a conseguir maximalidad)\n",
    "\n",
    "        # 2a. Comprobación de MOUT no en BLANK+\n",
    "        # Nos guardamos los nodos en BLANK y en MOUT\n",
    "        arg_blank = {n for n, etiqueta in etiquetas_actuales.items() if etiqueta == BLANK}\n",
    "        arg_mout = {n for n, etiqueta in etiquetas_actuales.items() if etiqueta == MUST_OUT}\n",
    "        # Calculamos BLANK+\n",
    "        atacadas_por_blank = set()\n",
    "        for nodo in arg_blank:\n",
    "            atacadas_por_blank.update(nodo.atacados)\n",
    "        # En caso de MOUT no contenido en BLANK+ se hace un return (Cierre de rama)\n",
    "        if not arg_mout.issubset(atacadas_por_blank):\n",
    "            return\n",
    "        \n",
    "        # 2b. Comprobación de maximalidad, IN U BLANK no contenido en alguna extensión preferida\n",
    "        # Me guardo IN y hago IN U BLANK\n",
    "        arg_in = {n for n, etiqueta in etiquetas_actuales.items() if etiqueta == IN}\n",
    "        arg_in_blank = arg_in.union(arg_blank)\n",
    "        #Recorro la extensiones ya calculadas y en caso de estar contenido en alguna cerramos la rama (return vacio)\n",
    "        for ext in extensiones[0]:\n",
    "            if arg_in_blank.issubset(ext):\n",
    "                return\n",
    "\n",
    "\n",
    "\n",
    "        # 3. Elegir un nodo BLANK para bifurcar. En este caso estoy eligiendo como heurística el nodo que mas atacantes y atacados tiene pues es candidato a que aparezcan muchos\n",
    "        # OUT y MUST OUT acortando así el recorrido.\n",
    "        # nodo_a_etiquetar = next(n for n, etiqueta in etiquetas_actuales.items() if etiqueta == BLANK)\n",
    "        nodo_a_etiquetar = max(arg_blank, key= lambda n: len(n.atacados) + len(n.atacantes))\n",
    "\n",
    "        # 4. Rama 1: Etiquetar nodo como IN y propagar etiquetas.\n",
    "        etiquetas_nueva_1 = etiquetas_actuales.copy()\n",
    "        etiquetar_in(nodo_a_etiquetar, etiquetas_nueva_1)\n",
    "        backtracking(etiquetas_nueva_1)\n",
    "\n",
    "        # 5. Rama 2: Etiquetar nodo como UNDEC\n",
    "        etiquetas_nueva_2 = etiquetas_actuales.copy()\n",
    "        etiquetas_nueva_2[nodo_a_etiquetar] = UNDEC\n",
    "        backtracking(etiquetas_nueva_2)\n",
    "\n",
    "    # Función para propagar etiquetas tras marcar IN\n",
    "    def etiquetar_in(nodo: \"NodoArgumento\", etiquetas: Dict[\"NodoArgumento\", str]):\n",
    "        etiquetas[nodo] = IN\n",
    "\n",
    "        # {x}+: atacados por nodo a estos se les añade OUT. No hay que comprobar si están IN (Para evitar conflicto interno) ya que en caso de estarlo\n",
    "        # este nodo no se podría haber seleccionado porque estaría marcado como MUST-OUT\n",
    "        for atacado in nodo.atacados:\n",
    "            etiquetas[atacado] = OUT\n",
    "\n",
    "        # {x}-: atacantes de nodo. Se añade la etiqueta MUST-OUT en caso de que un atacante no esté atacado o por el nod que introducimos o por otro\n",
    "        # ya añadido anteriormente en el árbol (En caso de ser atacado por otro estaría en OUT, por lo que ya estaríamos defendidos de él)\n",
    "        atacantes = nodo.atacantes\n",
    "        atacados = nodo.atacados\n",
    "        for atacante in atacantes:\n",
    "            if atacante not in atacados and etiquetas[atacante] != OUT:\n",
    "                etiquetas[atacante] = MUST_OUT\n",
    "\n",
    "\n",
    "    # Comenzamos creando el nodo inicial y la lista de extensiones que iremos rellenando\n",
    "    etiquetas: Dict[\"NodoArgumento\", str] = {nodo: BLANK for nodo in grafo.nodos}\n",
    "    extensiones: tuple[List[Set[\"NodoArgumento\"]], List[Set[\"NodoArgumento\"]]] = ([],[])\n",
    "\n",
    "    # Ahora vamos a modificar el nodo inicial de modo que se inicialice con la extension básica\n",
    "    extension_basica = calculo_extension_basica(grafo)\n",
    "    for nodo_a_etiquetar in extension_basica:\n",
    "        etiquetar_in(nodo_a_etiquetar, etiquetas)\n",
    "        \n",
    "    #Por úlitmo llamamos a backtracking con el nodo inicial que se encargará de hacerlo todo recursivamente y devlvemos la resultante lista de extensiones\n",
    "    backtracking(etiquetas)\n",
    "    return extensiones\n"
   ]
  },
  {
   "cell_type": "markdown",
   "id": "faad734c",
   "metadata": {},
   "source": [
    "#### Ejemplo 1:\n",
    "\n",
    "Sistema argumentativo de la diapositiva 55 de los apuntes de la asignatura."
   ]
  },
  {
   "cell_type": "code",
   "execution_count": 63,
   "id": "41817254",
   "metadata": {},
   "outputs": [
    {
     "data": {
      "image/png": "[encoded data removed]",
      "text/plain": [
       "<Figure size 640x480 with 1 Axes>"
      ]
     },
     "metadata": {},
     "output_type": "display_data"
    }
   ],
   "source": [
    "A1 = NodoArgumento(\"A1\")\n",
    "B1 = NodoArgumento(\"B1\")\n",
    "C1 = NodoArgumento(\"C1\")\n",
    "D1 = NodoArgumento(\"D1\")\n",
    "A1.ataca(B1)\n",
    "B1.ataca(A1)\n",
    "B1.ataca(C1)\n",
    "\n",
    "Grafo1 = GrafoArgumentativo(\"Ejemplo 1\", {A1,B1,C1,D1})\n",
    "Grafo1.dibujar_grafo()"
   ]
  },
  {
   "cell_type": "code",
   "execution_count": 64,
   "id": "57975e9c",
   "metadata": {},
   "outputs": [
    {
     "name": "stdout",
     "output_type": "stream",
     "text": [
      "Las extensiones preferidas calculadas son: [{Nodo B1, Nodo D1}, {Nodo A1, Nodo C1, Nodo D1}]\n",
      "La extensión básica es: {Nodo D1}\n"
     ]
    }
   ],
   "source": [
    "print(\"Las extensiones preferidas calculadas son: \" + str(calcular_extensiones_preferidas(Grafo1)[0]))\n",
    "print(\"La extensión básica es: \" + str(calculo_extension_basica(Grafo1)))"
   ]
  },
  {
   "cell_type": "markdown",
   "id": "3045d5e8",
   "metadata": {},
   "source": [
    "#### Ejemplo 2:\n",
    "\n",
    "Sistema argumentativo de la diapositiva 50 de los apuntes."
   ]
  },
  {
   "cell_type": "code",
   "execution_count": 65,
   "id": "fae0af05",
   "metadata": {},
   "outputs": [
    {
     "data": {
      "image/png": "[encoded data removed]",
      "text/plain": [
       "<Figure size 640x480 with 1 Axes>"
      ]
     },
     "metadata": {},
     "output_type": "display_data"
    }
   ],
   "source": [
    "A2 = NodoArgumento(\"A2\")\n",
    "B2 = NodoArgumento(\"B2\")\n",
    "C2 = NodoArgumento(\"C2\")\n",
    "A2.ataca(B2)\n",
    "C2.ataca(B2)\n",
    "B2.ataca(C2)\n",
    "\n",
    "Grafo2 = GrafoArgumentativo(\"Ejemplo 2\", {A2, B2, C2})\n",
    "Grafo2.dibujar_grafo()"
   ]
  },
  {
   "cell_type": "code",
   "execution_count": 66,
   "id": "410a471b",
   "metadata": {},
   "outputs": [
    {
     "name": "stdout",
     "output_type": "stream",
     "text": [
      "Las extensiones preferidas calculadas son: [{Nodo A2, Nodo C2}]\n",
      "Las extensión básica es: {Nodo A2, Nodo C2}\n"
     ]
    }
   ],
   "source": [
    "print(\"Las extensiones preferidas calculadas son: \" + str(calcular_extensiones_preferidas(Grafo2)[0]))\n",
    "print(\"Las extensión básica es: \" + str(calculo_extension_basica(Grafo2)))"
   ]
  },
  {
   "cell_type": "markdown",
   "id": "6c189126",
   "metadata": {},
   "source": [
    "### Ejemplo 3:\n",
    "\n",
    "Sistema argumentativo de video de la asignatura en el que se muestra el algoritmo."
   ]
  },
  {
   "cell_type": "code",
   "execution_count": 67,
   "id": "ece56fec",
   "metadata": {},
   "outputs": [
    {
     "data": {
      "image/png": "[encoded data removed]",
      "text/plain": [
       "<Figure size 640x480 with 1 Axes>"
      ]
     },
     "metadata": {},
     "output_type": "display_data"
    }
   ],
   "source": [
    "a1 = NodoArgumento(\"a1\")\n",
    "a2 = NodoArgumento(\"a2\")\n",
    "a3 = NodoArgumento(\"a3\")\n",
    "a4 = NodoArgumento(\"a4\")\n",
    "a5 = NodoArgumento(\"a5\")\n",
    "a6 = NodoArgumento(\"a6\")\n",
    "a7 = NodoArgumento(\"a7\")\n",
    "a8 = NodoArgumento(\"a8\")\n",
    "a9 = NodoArgumento(\"a9\")\n",
    "a10 = NodoArgumento(\"a10\")\n",
    "a10.ataca(a9)\n",
    "a9.ataca(a8)\n",
    "a8.ataca(a7)\n",
    "a7.ataca(a6)\n",
    "a6.ataca(a5)\n",
    "a5.ataca(a6)\n",
    "a4.ataca(a5)\n",
    "a3.ataca(a4)\n",
    "a2.ataca(a5)\n",
    "a2.ataca(a3)\n",
    "a2.ataca(a1)\n",
    "a1.ataca(a2)\n",
    "Grafo3 = GrafoArgumentativo(\"Ejemplo video\", {a1,a2,a3,a4,a5,a6,a7,a8,a9,a10})\n",
    "Grafo3.dibujar_grafo()"
   ]
  },
  {
   "cell_type": "code",
   "execution_count": null,
   "id": "d55662fd",
   "metadata": {},
   "outputs": [
    {
     "name": "stdout",
     "output_type": "stream",
     "text": [
      "Las extensiones preferidas calculadas son: [{Nodo a10, Nodo a1, Nodo a5, Nodo a8, Nodo a3}, {Nodo a10, Nodo a4, Nodo a6, Nodo a2, Nodo a8}, {Nodo a10, Nodo a1, Nodo a6, Nodo a8, Nodo a3}]\n",
      "La extensión básica es: {Nodo a10, Nodo a8}\n"
     ]
    }
   ],
   "source": [
    "print(\"Las extensiones preferidas calculadas son: \" + str(calcular_extensiones_preferidas(Grafo3)[0]))\n",
    "print(\"La extensión básica es: \" + str(calculo_extension_basica(Grafo3)))"
   ]
  }
 ],
 "metadata": {
  "kernelspec": {
   "display_name": "Python 3",
   "language": "python",
   "name": "python3"
  },
  "language_info": {
   "codemirror_mode": {
    "name": "ipython",
    "version": 3
   },
   "file_extension": ".py",
   "mimetype": "text/x-python",
   "name": "python",
   "nbconvert_exporter": "python",
   "pygments_lexer": "ipython3",
   "version": "3.12.4"
  }
 },
 "nbformat": 4,
 "nbformat_minor": 5
}
